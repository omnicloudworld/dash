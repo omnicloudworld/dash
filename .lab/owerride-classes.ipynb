{
 "cells": [
  {
   "cell_type": "code",
   "execution_count": 47,
   "metadata": {},
   "outputs": [],
   "source": [
    "class M():\n",
    "    def __init__(self, m: str):\n",
    "        print(m)\n",
    "\n",
    "class Z(M):\n",
    "\n",
    "    def __init__(\n",
    "        self,\n",
    "        m: str,\n",
    "        ii: int,\n",
    "        ll: list = None,\n",
    "        **kw\n",
    "    ):\n",
    "\n",
    "        super().__init__(**kw)\n",
    "\n",
    "        print('Z-Z', ' - ', ii)\n",
    "        \n",
    "        x_ll = self._ll if hasattr(self, '_ll') else []\n",
    "        x_ll.append('Z-Z')\n",
    "        if ll:\n",
    "            x_ll.extend(ll)\n",
    "        self._ll = x_ll\n",
    "        \n",
    "\n",
    "\n",
    "class X(M):\n",
    "\n",
    "    def __init__(\n",
    "        self,\n",
    "        m: str,\n",
    "        ll: list = None,\n",
    "        **kw\n",
    "    ):\n",
    "\n",
    "        super().__init__(**kw)\n",
    "        \n",
    "        print('X-X')\n",
    "\n",
    "        x_ll = self._ll if hasattr(self, '_ll') else []\n",
    "        x_ll.append('X-X')\n",
    "        if ll:\n",
    "            x_ll.extend(ll)\n",
    "        self._ll = x_ll\n",
    "\n",
    "        print(__name__)\n",
    "\n",
    "\n"
   ]
  },
  {
   "cell_type": "code",
   "execution_count": 52,
   "metadata": {},
   "outputs": [
    {
     "ename": "TypeError",
     "evalue": "X.__init__() missing 1 required positional argument: 'm'",
     "output_type": "error",
     "traceback": [
      "\u001b[0;31m---------------------------------------------------------------------------\u001b[0m",
      "\u001b[0;31mTypeError\u001b[0m                                 Traceback (most recent call last)",
      "\u001b[1;32m/workspace/platform/test/owerride-classes.ipynb Cell 2\u001b[0m in \u001b[0;36m<cell line: 11>\u001b[0;34m()\u001b[0m\n\u001b[1;32m      <a href='vscode-notebook-cell://skyantpythonwe-platform-agc6yo4wgf7.ws-eu54.gitpod.io/workspace/platform/test/owerride-classes.ipynb#ch0000001vscode-remote?line=1'>2</a>\u001b[0m     \u001b[39mdef\u001b[39;00m \u001b[39m__init__\u001b[39m(\n\u001b[1;32m      <a href='vscode-notebook-cell://skyantpythonwe-platform-agc6yo4wgf7.ws-eu54.gitpod.io/workspace/platform/test/owerride-classes.ipynb#ch0000001vscode-remote?line=2'>3</a>\u001b[0m         \u001b[39mself\u001b[39m,\n\u001b[1;32m      <a href='vscode-notebook-cell://skyantpythonwe-platform-agc6yo4wgf7.ws-eu54.gitpod.io/workspace/platform/test/owerride-classes.ipynb#ch0000001vscode-remote?line=3'>4</a>\u001b[0m         m: \u001b[39mstr\u001b[39m,\n\u001b[0;32m   (...)\u001b[0m\n\u001b[1;32m      <a href='vscode-notebook-cell://skyantpythonwe-platform-agc6yo4wgf7.ws-eu54.gitpod.io/workspace/platform/test/owerride-classes.ipynb#ch0000001vscode-remote?line=6'>7</a>\u001b[0m         \u001b[39m*\u001b[39m\u001b[39m*\u001b[39mkw\n\u001b[1;32m      <a href='vscode-notebook-cell://skyantpythonwe-platform-agc6yo4wgf7.ws-eu54.gitpod.io/workspace/platform/test/owerride-classes.ipynb#ch0000001vscode-remote?line=7'>8</a>\u001b[0m     ):\n\u001b[1;32m      <a href='vscode-notebook-cell://skyantpythonwe-platform-agc6yo4wgf7.ws-eu54.gitpod.io/workspace/platform/test/owerride-classes.ipynb#ch0000001vscode-remote?line=8'>9</a>\u001b[0m         \u001b[39msuper\u001b[39m()\u001b[39m.\u001b[39m\u001b[39m__init__\u001b[39m(m\u001b[39m=\u001b[39mm, ii\u001b[39m=\u001b[39mii, ll\u001b[39m=\u001b[39mll, \u001b[39m*\u001b[39m\u001b[39m*\u001b[39mkw)\n\u001b[0;32m---> <a href='vscode-notebook-cell://skyantpythonwe-platform-agc6yo4wgf7.ws-eu54.gitpod.io/workspace/platform/test/owerride-classes.ipynb#ch0000001vscode-remote?line=10'>11</a>\u001b[0m a \u001b[39m=\u001b[39m A(m\u001b[39m=\u001b[39;49m\u001b[39m'\u001b[39;49m\u001b[39mww\u001b[39;49m\u001b[39m'\u001b[39;49m, ii\u001b[39m=\u001b[39;49m\u001b[39m5\u001b[39;49m, ll\u001b[39m=\u001b[39;49m[\u001b[39m00\u001b[39;49m])\n",
      "\u001b[1;32m/workspace/platform/test/owerride-classes.ipynb Cell 2\u001b[0m in \u001b[0;36mA.__init__\u001b[0;34m(self, m, ii, ll, **kw)\u001b[0m\n\u001b[1;32m      <a href='vscode-notebook-cell://skyantpythonwe-platform-agc6yo4wgf7.ws-eu54.gitpod.io/workspace/platform/test/owerride-classes.ipynb#ch0000001vscode-remote?line=1'>2</a>\u001b[0m \u001b[39mdef\u001b[39;00m \u001b[39m__init__\u001b[39m(\n\u001b[1;32m      <a href='vscode-notebook-cell://skyantpythonwe-platform-agc6yo4wgf7.ws-eu54.gitpod.io/workspace/platform/test/owerride-classes.ipynb#ch0000001vscode-remote?line=2'>3</a>\u001b[0m     \u001b[39mself\u001b[39m,\n\u001b[1;32m      <a href='vscode-notebook-cell://skyantpythonwe-platform-agc6yo4wgf7.ws-eu54.gitpod.io/workspace/platform/test/owerride-classes.ipynb#ch0000001vscode-remote?line=3'>4</a>\u001b[0m     m: \u001b[39mstr\u001b[39m,\n\u001b[0;32m   (...)\u001b[0m\n\u001b[1;32m      <a href='vscode-notebook-cell://skyantpythonwe-platform-agc6yo4wgf7.ws-eu54.gitpod.io/workspace/platform/test/owerride-classes.ipynb#ch0000001vscode-remote?line=6'>7</a>\u001b[0m     \u001b[39m*\u001b[39m\u001b[39m*\u001b[39mkw\n\u001b[1;32m      <a href='vscode-notebook-cell://skyantpythonwe-platform-agc6yo4wgf7.ws-eu54.gitpod.io/workspace/platform/test/owerride-classes.ipynb#ch0000001vscode-remote?line=7'>8</a>\u001b[0m ):\n\u001b[0;32m----> <a href='vscode-notebook-cell://skyantpythonwe-platform-agc6yo4wgf7.ws-eu54.gitpod.io/workspace/platform/test/owerride-classes.ipynb#ch0000001vscode-remote?line=8'>9</a>\u001b[0m     \u001b[39msuper\u001b[39;49m()\u001b[39m.\u001b[39;49m\u001b[39m__init__\u001b[39;49m(m\u001b[39m=\u001b[39;49mm, ii\u001b[39m=\u001b[39;49mii, ll\u001b[39m=\u001b[39;49mll, \u001b[39m*\u001b[39;49m\u001b[39m*\u001b[39;49mkw)\n",
      "\u001b[1;32m/workspace/platform/test/owerride-classes.ipynb Cell 2\u001b[0m in \u001b[0;36mZ.__init__\u001b[0;34m(self, m, ii, ll, **kw)\u001b[0m\n\u001b[1;32m      <a href='vscode-notebook-cell://skyantpythonwe-platform-agc6yo4wgf7.ws-eu54.gitpod.io/workspace/platform/test/owerride-classes.ipynb#ch0000001vscode-remote?line=6'>7</a>\u001b[0m \u001b[39mdef\u001b[39;00m \u001b[39m__init__\u001b[39m(\n\u001b[1;32m      <a href='vscode-notebook-cell://skyantpythonwe-platform-agc6yo4wgf7.ws-eu54.gitpod.io/workspace/platform/test/owerride-classes.ipynb#ch0000001vscode-remote?line=7'>8</a>\u001b[0m     \u001b[39mself\u001b[39m,\n\u001b[1;32m      <a href='vscode-notebook-cell://skyantpythonwe-platform-agc6yo4wgf7.ws-eu54.gitpod.io/workspace/platform/test/owerride-classes.ipynb#ch0000001vscode-remote?line=8'>9</a>\u001b[0m     m: \u001b[39mstr\u001b[39m,\n\u001b[0;32m   (...)\u001b[0m\n\u001b[1;32m     <a href='vscode-notebook-cell://skyantpythonwe-platform-agc6yo4wgf7.ws-eu54.gitpod.io/workspace/platform/test/owerride-classes.ipynb#ch0000001vscode-remote?line=11'>12</a>\u001b[0m     \u001b[39m*\u001b[39m\u001b[39m*\u001b[39mkw\n\u001b[1;32m     <a href='vscode-notebook-cell://skyantpythonwe-platform-agc6yo4wgf7.ws-eu54.gitpod.io/workspace/platform/test/owerride-classes.ipynb#ch0000001vscode-remote?line=12'>13</a>\u001b[0m ):\n\u001b[0;32m---> <a href='vscode-notebook-cell://skyantpythonwe-platform-agc6yo4wgf7.ws-eu54.gitpod.io/workspace/platform/test/owerride-classes.ipynb#ch0000001vscode-remote?line=14'>15</a>\u001b[0m     \u001b[39msuper\u001b[39;49m()\u001b[39m.\u001b[39;49m\u001b[39m__init__\u001b[39;49m(\u001b[39m*\u001b[39;49m\u001b[39m*\u001b[39;49mkw)\n\u001b[1;32m     <a href='vscode-notebook-cell://skyantpythonwe-platform-agc6yo4wgf7.ws-eu54.gitpod.io/workspace/platform/test/owerride-classes.ipynb#ch0000001vscode-remote?line=16'>17</a>\u001b[0m     \u001b[39mprint\u001b[39m(\u001b[39m'\u001b[39m\u001b[39mZ-Z\u001b[39m\u001b[39m'\u001b[39m, \u001b[39m'\u001b[39m\u001b[39m - \u001b[39m\u001b[39m'\u001b[39m, ii)\n\u001b[1;32m     <a href='vscode-notebook-cell://skyantpythonwe-platform-agc6yo4wgf7.ws-eu54.gitpod.io/workspace/platform/test/owerride-classes.ipynb#ch0000001vscode-remote?line=18'>19</a>\u001b[0m     x_ll \u001b[39m=\u001b[39m \u001b[39mself\u001b[39m\u001b[39m.\u001b[39m_ll \u001b[39mif\u001b[39;00m \u001b[39mhasattr\u001b[39m(\u001b[39mself\u001b[39m, \u001b[39m'\u001b[39m\u001b[39m_ll\u001b[39m\u001b[39m'\u001b[39m) \u001b[39melse\u001b[39;00m []\n",
      "\u001b[0;31mTypeError\u001b[0m: X.__init__() missing 1 required positional argument: 'm'"
     ]
    }
   ],
   "source": [
    "class A(Z, X):\n",
    "    def __init__(\n",
    "        self,\n",
    "        m: str,\n",
    "        ii: int,\n",
    "        ll: list = None, \n",
    "        **kw\n",
    "    ):\n",
    "        super().__init__(m=m, ii=ii, ll=ll, **kw)\n",
    "\n",
    "a = A(m='ww', ii=5, ll=[00])"
   ]
  },
  {
   "cell_type": "code",
   "execution_count": 46,
   "metadata": {},
   "outputs": [
    {
     "name": "stdout",
     "output_type": "stream",
     "text": [
      "[<class '__main__.A'>, <class '__main__.Z'>, <class '__main__.X'>, <class 'object'>]\n",
      "{'_ll': ['X-X', 'Z-Z', 0]}\n"
     ]
    }
   ],
   "source": [
    "print(A.mro())\n",
    "print(a.__dict__)"
   ]
  }
 ],
 "metadata": {
  "kernelspec": {
   "display_name": "Python 3.10.4 64-bit",
   "language": "python",
   "name": "python3"
  },
  "language_info": {
   "codemirror_mode": {
    "name": "ipython",
    "version": 3
   },
   "file_extension": ".py",
   "mimetype": "text/x-python",
   "name": "python",
   "nbconvert_exporter": "python",
   "pygments_lexer": "ipython3",
   "version": "3.10.4"
  },
  "orig_nbformat": 4,
  "vscode": {
   "interpreter": {
    "hash": "949777d72b0d2535278d3dc13498b2535136f6dfe0678499012e853ee9abcab1"
   }
  }
 },
 "nbformat": 4,
 "nbformat_minor": 2
}
